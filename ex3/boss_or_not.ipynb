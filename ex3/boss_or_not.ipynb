{
  "nbformat": 4,
  "nbformat_minor": 0,
  "metadata": {
    "colab": {
      "name": "boss_or_not.ipynb",
      "version": "0.3.2",
      "provenance": [],
      "collapsed_sections": []
    },
    "kernelspec": {
      "display_name": "Python 3",
      "language": "python",
      "name": "python3"
    }
  },
  "cells": [
    {
      "metadata": {
        "id": "X8aU01BAYvWw",
        "colab_type": "text"
      },
      "cell_type": "markdown",
      "source": [
        "![Enron](https://upload.wikimedia.org/wikipedia/commons/thumb/3/3f/Logo_de_Enron.svg/300px-Logo_de_Enron.svg.png)\n",
        "\n",
        "# Mail from the boss\n",
        "\n",
        "One of the most common problems companies face is CEO impersonation attacks. This is a form of fraud where a scammer sends an email purporting to be from the CEO of a company or another senior executive and commonly requesting the finance team to make a payment to a third party.\n",
        "\n",
        "In this challenge we're going to use machine learning to automatically detect if an email from a person is legitimate. For that purpose we're going to use the corpus of emails from Enron. You can learn more about the [Enron](https://en.wikipedia.org/wiki/Enron_scandal) scandal in the Wikipedia.\n",
        "\n",
        "Now imagine that you're a worker from Enron in the year 2000 and you receive an email from the boss [Ken Lay](https://en.wikipedia.org/wiki/Kenneth_Lay) asking you to pay a huge invoice. Fortunately you have access to the email servers files and you can use machine learning to find out if the email is genuine.\n",
        "\n",
        "Use the following Colab notebook to create a feature vector of 3000 features for each email in the Enron dataset. Populate each feature with the number of times each of the 3000 most frequent English words appears in the email.\n",
        "\n",
        "Afterwards train a classifier to detect Ken's emails and provide a confusion matrix of the performance.\n",
        "\n",
        "For your convenience we have already labeled Ken's emails in the dataset and extracted the body of the emails in a separate column."
      ]
    },
    {
      "metadata": {
        "colab": {},
        "colab_type": "code",
        "id": "wS6Qo5CN3bBH"
      },
      "cell_type": "code",
      "source": [
        "import pandas as pd"
      ],
      "execution_count": 0,
      "outputs": []
    },
    {
      "metadata": {
        "colab": {},
        "colab_type": "code",
        "id": "syJd-SumRpu4"
      },
      "cell_type": "code",
      "source": [
        "emails = pd.read_csv('https://storage.googleapis.com/bewica-challenge/emails_from_boss_small.csv', engine='python', error_bad_lines=False)\n",
        "\n",
        "## Below is the full dataset from Enron. We suggest to use only to check performance at the end of the exercise.\n",
        "# emails = pd.read_csv('https://storage.googleapis.com/bewica-challenge/emails_from_boss.csv', engine='python', error_bad_lines=False)"
      ],
      "execution_count": 0,
      "outputs": []
    },
    {
      "metadata": {
        "colab": {
          "base_uri": "https://localhost:8080/",
          "height": 208
        },
        "colab_type": "code",
        "id": "PjDseSp5FZUs",
        "outputId": "f6233e4b-dd59-4ab5-f901-c238f3cc516a"
      },
      "cell_type": "code",
      "source": [
        "emails[emails.from_boss].body.tail(10)"
      ],
      "execution_count": 3,
      "outputs": [
        {
          "output_type": "execute_result",
          "data": {
            "text/plain": [
              "59339    Okay, I've already had questions about stateme...\n",
              "59340    FYI - Thought you might be interested in Gary ...\n",
              "59905    Today, Enron hosted a conference call to give ...\n",
              "59926    Today we announced another positive developmen...\n",
              "60063    As you have heard, Dynegy is terminating the m...\n",
              "60131    Many of you have asked whether you should come...\n",
              "61143    I want to remind you about our All-Employee Me...\n",
              "61150    Today we announced the appointment of Jeff McM...\n",
              "61342    I know that this is a difficult time for all o...\n",
              "61343    Today we released additional information about...\n",
              "Name: body, dtype: object"
            ]
          },
          "metadata": {
            "tags": []
          },
          "execution_count": 3
        }
      ]
    },
    {
      "metadata": {
        "id": "mAIe-og5YvXw",
        "colab_type": "code",
        "colab": {}
      },
      "cell_type": "code",
      "source": [
        "dictionary = pd.read_csv(\"https://storage.googleapis.com/bewica-challenge/most_common_3000_words.txt\", header=None, names=['word'])"
      ],
      "execution_count": 0,
      "outputs": []
    },
    {
      "metadata": {
        "id": "dEk6ERPxYvX6",
        "colab_type": "code",
        "colab": {
          "base_uri": "https://localhost:8080/",
          "height": 363
        },
        "outputId": "c014b2b0-e479-458e-b23b-d524b185297f"
      },
      "cell_type": "code",
      "source": [
        "dictionary.head(10)"
      ],
      "execution_count": 5,
      "outputs": [
        {
          "output_type": "execute_result",
          "data": {
            "text/html": [
              "<div>\n",
              "<style scoped>\n",
              "    .dataframe tbody tr th:only-of-type {\n",
              "        vertical-align: middle;\n",
              "    }\n",
              "\n",
              "    .dataframe tbody tr th {\n",
              "        vertical-align: top;\n",
              "    }\n",
              "\n",
              "    .dataframe thead th {\n",
              "        text-align: right;\n",
              "    }\n",
              "</style>\n",
              "<table border=\"1\" class=\"dataframe\">\n",
              "  <thead>\n",
              "    <tr style=\"text-align: right;\">\n",
              "      <th></th>\n",
              "      <th>word</th>\n",
              "    </tr>\n",
              "  </thead>\n",
              "  <tbody>\n",
              "    <tr>\n",
              "      <th>0</th>\n",
              "      <td>a</td>\n",
              "    </tr>\n",
              "    <tr>\n",
              "      <th>1</th>\n",
              "      <td>abandon</td>\n",
              "    </tr>\n",
              "    <tr>\n",
              "      <th>2</th>\n",
              "      <td>ability</td>\n",
              "    </tr>\n",
              "    <tr>\n",
              "      <th>3</th>\n",
              "      <td>able</td>\n",
              "    </tr>\n",
              "    <tr>\n",
              "      <th>4</th>\n",
              "      <td>abortion</td>\n",
              "    </tr>\n",
              "    <tr>\n",
              "      <th>5</th>\n",
              "      <td>about</td>\n",
              "    </tr>\n",
              "    <tr>\n",
              "      <th>6</th>\n",
              "      <td>above</td>\n",
              "    </tr>\n",
              "    <tr>\n",
              "      <th>7</th>\n",
              "      <td>abroad</td>\n",
              "    </tr>\n",
              "    <tr>\n",
              "      <th>8</th>\n",
              "      <td>absence</td>\n",
              "    </tr>\n",
              "    <tr>\n",
              "      <th>9</th>\n",
              "      <td>absolute</td>\n",
              "    </tr>\n",
              "  </tbody>\n",
              "</table>\n",
              "</div>"
            ],
            "text/plain": [
              "       word\n",
              "0         a\n",
              "1   abandon\n",
              "2   ability\n",
              "3      able\n",
              "4  abortion\n",
              "5     about\n",
              "6     above\n",
              "7    abroad\n",
              "8   absence\n",
              "9  absolute"
            ]
          },
          "metadata": {
            "tags": []
          },
          "execution_count": 5
        }
      ]
    },
    {
      "metadata": {
        "id": "HG1njr8rYvYK",
        "colab_type": "code",
        "colab": {
          "base_uri": "https://localhost:8080/",
          "height": 69
        },
        "outputId": "25629f38-2255-49d1-c8dd-889691aad166"
      },
      "cell_type": "code",
      "source": [
        "emails.columns"
      ],
      "execution_count": 6,
      "outputs": [
        {
          "output_type": "execute_result",
          "data": {
            "text/plain": [
              "Index(['Unnamed: 0', 'file', 'message', 'user', 'type', 'email_from',\n",
              "       'email_to', 'xfrom', 'xto', 'date', 'subject', 'body', 'from_boss'],\n",
              "      dtype='object')"
            ]
          },
          "metadata": {
            "tags": []
          },
          "execution_count": 6
        }
      ]
    },
    {
      "metadata": {
        "id": "WpZ9trp5ZCfs",
        "colab_type": "code",
        "colab": {
          "base_uri": "https://localhost:8080/",
          "height": 206
        },
        "outputId": "3b389387-8119-4b03-c4ba-0d44a69115a7"
      },
      "cell_type": "code",
      "source": [
        "# keep only subject and body since we're training a classifier based on text/vocabulary\n",
        "# maybe other featres such as 'message', 'date' (specially time of day) or recipient from the email could also be useful\n",
        "emails = emails.drop(columns=['Unnamed: 0', 'file', 'message', 'user', 'type', 'email_from', 'email_to', 'xfrom', 'xto', 'date'])\n",
        "\n",
        "# removing subject too since would require a bit more work to take into account in the analysis\n",
        "# it might only add stuff as in \"boss tends to hit the reply button\", might not be that relevant with a 3k vocabulary\n",
        "# we're dropping this feature too for now and only keeping the body\n",
        "# we fill NaNs with empty string (assuming its an email with no body, might also show boss behaviour)\n",
        "emails = emails.drop(columns=['subject']).fillna('')\n",
        "emails.head()"
      ],
      "execution_count": 7,
      "outputs": [
        {
          "output_type": "execute_result",
          "data": {
            "text/html": [
              "<div>\n",
              "<style scoped>\n",
              "    .dataframe tbody tr th:only-of-type {\n",
              "        vertical-align: middle;\n",
              "    }\n",
              "\n",
              "    .dataframe tbody tr th {\n",
              "        vertical-align: top;\n",
              "    }\n",
              "\n",
              "    .dataframe thead th {\n",
              "        text-align: right;\n",
              "    }\n",
              "</style>\n",
              "<table border=\"1\" class=\"dataframe\">\n",
              "  <thead>\n",
              "    <tr style=\"text-align: right;\">\n",
              "      <th></th>\n",
              "      <th>body</th>\n",
              "      <th>from_boss</th>\n",
              "    </tr>\n",
              "  </thead>\n",
              "  <tbody>\n",
              "    <tr>\n",
              "      <th>0</th>\n",
              "      <td>Here is our forecast</td>\n",
              "      <td>False</td>\n",
              "    </tr>\n",
              "    <tr>\n",
              "      <th>1</th>\n",
              "      <td>Traveling to have a business meeting takes the...</td>\n",
              "      <td>False</td>\n",
              "    </tr>\n",
              "    <tr>\n",
              "      <th>2</th>\n",
              "      <td>test successful.  way to go!!!</td>\n",
              "      <td>False</td>\n",
              "    </tr>\n",
              "    <tr>\n",
              "      <th>3</th>\n",
              "      <td>Randy, Can you send me a schedule of the salar...</td>\n",
              "      <td>False</td>\n",
              "    </tr>\n",
              "    <tr>\n",
              "      <th>4</th>\n",
              "      <td>Let's shoot for Tuesday at 11:45.</td>\n",
              "      <td>False</td>\n",
              "    </tr>\n",
              "  </tbody>\n",
              "</table>\n",
              "</div>"
            ],
            "text/plain": [
              "                                                body  from_boss\n",
              "0                              Here is our forecast       False\n",
              "1  Traveling to have a business meeting takes the...      False\n",
              "2                     test successful.  way to go!!!      False\n",
              "3  Randy, Can you send me a schedule of the salar...      False\n",
              "4                Let's shoot for Tuesday at 11:45.        False"
            ]
          },
          "metadata": {
            "tags": []
          },
          "execution_count": 7
        }
      ]
    },
    {
      "metadata": {
        "id": "XBLEmgkOZVt4",
        "colab_type": "code",
        "colab": {}
      },
      "cell_type": "code",
      "source": [
        "from sklearn.feature_extraction.text import TfidfVectorizer\n",
        "from sklearn.svm import LinearSVC\n",
        "from sklearn.pipeline import Pipeline\n",
        "from sklearn.model_selection import train_test_split\n",
        "from sklearn import metrics\n",
        "\n",
        "train, test = train_test_split(emails, test_size=0.2, random_state=3)"
      ],
      "execution_count": 0,
      "outputs": []
    },
    {
      "metadata": {
        "id": "XMm7z_DwaCcg",
        "colab_type": "code",
        "colab": {
          "base_uri": "https://localhost:8080/",
          "height": 206
        },
        "outputId": "0e2b97f7-e60c-4666-94b5-93563f9a55ed"
      },
      "cell_type": "code",
      "source": [
        "train.head()"
      ],
      "execution_count": 9,
      "outputs": [
        {
          "output_type": "execute_result",
          "data": {
            "text/html": [
              "<div>\n",
              "<style scoped>\n",
              "    .dataframe tbody tr th:only-of-type {\n",
              "        vertical-align: middle;\n",
              "    }\n",
              "\n",
              "    .dataframe tbody tr th {\n",
              "        vertical-align: top;\n",
              "    }\n",
              "\n",
              "    .dataframe thead th {\n",
              "        text-align: right;\n",
              "    }\n",
              "</style>\n",
              "<table border=\"1\" class=\"dataframe\">\n",
              "  <thead>\n",
              "    <tr style=\"text-align: right;\">\n",
              "      <th></th>\n",
              "      <th>body</th>\n",
              "      <th>from_boss</th>\n",
              "    </tr>\n",
              "  </thead>\n",
              "  <tbody>\n",
              "    <tr>\n",
              "      <th>37648</th>\n",
              "      <td></td>\n",
              "      <td>False</td>\n",
              "    </tr>\n",
              "    <tr>\n",
              "      <th>26623</th>\n",
              "      <td>I ran across this article in the Yomiuri Newsp...</td>\n",
              "      <td>False</td>\n",
              "    </tr>\n",
              "    <tr>\n",
              "      <th>44908</th>\n",
              "      <td>Hi Larry,Thanks for completing the diamond inf...</td>\n",
              "      <td>False</td>\n",
              "    </tr>\n",
              "    <tr>\n",
              "      <th>56754</th>\n",
              "      <td>Attached is a copy of our California Separatio...</td>\n",
              "      <td>False</td>\n",
              "    </tr>\n",
              "    <tr>\n",
              "      <th>46065</th>\n",
              "      <td>Today I spoke with Jean Calhoun of the Arizona...</td>\n",
              "      <td>False</td>\n",
              "    </tr>\n",
              "  </tbody>\n",
              "</table>\n",
              "</div>"
            ],
            "text/plain": [
              "                                                    body  from_boss\n",
              "37648                                                         False\n",
              "26623  I ran across this article in the Yomiuri Newsp...      False\n",
              "44908  Hi Larry,Thanks for completing the diamond inf...      False\n",
              "56754  Attached is a copy of our California Separatio...      False\n",
              "46065  Today I spoke with Jean Calhoun of the Arizona...      False"
            ]
          },
          "metadata": {
            "tags": []
          },
          "execution_count": 9
        }
      ]
    },
    {
      "metadata": {
        "id": "F1HcltgEffwS",
        "colab_type": "code",
        "colab": {
          "base_uri": "https://localhost:8080/",
          "height": 208
        },
        "outputId": "9a396c49-b41a-4a49-cfed-fafc568c8d4a"
      },
      "cell_type": "code",
      "source": [
        "print('Train data:\\n', train.groupby('from_boss').count())\n",
        "print('\\nTest data:\\n', test.groupby('from_boss').count())"
      ],
      "execution_count": 10,
      "outputs": [
        {
          "output_type": "stream",
          "text": [
            "Train data:\n",
            "             body\n",
            "from_boss       \n",
            "False      52221\n",
            "True         153\n",
            "\n",
            "Test data:\n",
            "             body\n",
            "from_boss       \n",
            "False      13054\n",
            "True          40\n"
          ],
          "name": "stdout"
        }
      ]
    },
    {
      "metadata": {
        "id": "mNwq6CvldwT6",
        "colab_type": "code",
        "colab": {
          "base_uri": "https://localhost:8080/",
          "height": 156
        },
        "outputId": "bac48df3-66ad-410b-9165-7d98337edfa7"
      },
      "cell_type": "code",
      "source": [
        "pipeline = Pipeline([('vect', TfidfVectorizer(vocabulary=dictionary['word'])),\n",
        "                       ('clf', LinearSVC(C=1000)),])\n",
        "pipeline.fit(train['body'], train['from_boss'])"
      ],
      "execution_count": 11,
      "outputs": [
        {
          "output_type": "execute_result",
          "data": {
            "text/plain": [
              "Pipeline(memory=None,\n",
              "     steps=[('vect', TfidfVectorizer(analyzer='word', binary=False, decode_error='strict',\n",
              "        dtype=<class 'numpy.int64'>, encoding='utf-8', input='content',\n",
              "        lowercase=True, max_df=1.0, max_features=None, min_df=1,\n",
              "        ngram_range=(1, 1), norm='l2', preprocessor=None, smooth_idf=True,\n",
              "  ...ax_iter=1000,\n",
              "     multi_class='ovr', penalty='l2', random_state=None, tol=0.0001,\n",
              "     verbose=0))])"
            ]
          },
          "metadata": {
            "tags": []
          },
          "execution_count": 11
        }
      ]
    },
    {
      "metadata": {
        "id": "nWqo-TagerRq",
        "colab_type": "code",
        "colab": {
          "base_uri": "https://localhost:8080/",
          "height": 173
        },
        "outputId": "4f32b4df-a6d7-4b4c-9a73-6cabc014b44f"
      },
      "cell_type": "code",
      "source": [
        "predictions = pipeline.predict(test['body'])\n",
        "print(metrics.classification_report(test['from_boss'], predictions))\n",
        "\n",
        "cm = metrics.confusion_matrix(test['from_boss'], predictions)\n",
        "print(cm)"
      ],
      "execution_count": 12,
      "outputs": [
        {
          "output_type": "stream",
          "text": [
            "             precision    recall  f1-score   support\n",
            "\n",
            "      False       1.00      1.00      1.00     13054\n",
            "       True       0.95      0.97      0.96        40\n",
            "\n",
            "avg / total       1.00      1.00      1.00     13094\n",
            "\n",
            "[[13052     2]\n",
            " [    1    39]]\n"
          ],
          "name": "stdout"
        }
      ]
    },
    {
      "metadata": {
        "id": "WgaMl7zMmJvw",
        "colab_type": "text"
      },
      "cell_type": "markdown",
      "source": [
        "# Commentary:\n",
        "Results look pretty good on the small dataset with a pretty quick model.\n",
        "## Model comments\n",
        "- __Dropping everything but body text__ still gives good results\n",
        "- __No effort in tuning__/trying different classifier parameters (kept defaults) or other classifiers, this is an actual model should be done\n",
        "- Even though there's a __heavy class imbalance__ (around 330 times more non-boss emails), classifier works great without doing anything special about it, but this should probably be the __first improvement/thing to double-check to the model__\n",
        "- __Next improvements__ we could check adding subject (more text data), recipient (typical recipients from boss emails), date (the boss might never write an email before 10am, or never on a Saturday) or other features of the email such as has attachments or server/domain that served the email as features to the model\n",
        "- Other improvements could be checks for typical spam/scam flags such as money-related signs/talk (£, $), but this would be for a model that checks for 'dangerous boss emails', not just 'is this email from my boss'\n",
        "- Assumed NaN in body text meant empty message (therefore filled with empty string)\n",
        "\n",
        "## Train/test split comments\n",
        "__Split between train and test data is pretty good__ with 'random_state=3' given the imbalanced nature of the data, so not much effort is done here either on the small dataset.\n",
        "\n",
        "__Train sample split__\n",
        "\n",
        "| from_boss | occurrences |\n",
        "|-------|-------|\n",
        "| False | 52221 |\n",
        "| True  | 153   |\n",
        "\n",
        "*ratio non_boss/boss emails = 341*\n",
        "\n",
        "__Test sample split__\n",
        "\n",
        "| from_boss | occurrences |\n",
        "|-------|-------|\n",
        "| False | 13054 |\n",
        "| True  | 40   |\n",
        "\n",
        "*ratio non_boss/boss emails = 326*\n",
        "\n",
        "## Train results comments\n",
        "Only 3 misclassifications (1 false negative and 2 false positives) over 13094 test samples.\n",
        "\n",
        "__Confusion matrix on test sample__\n",
        "\n",
        "| | Predicted False | Predicted True |\n",
        "|-------|-------|-------|\n",
        "| Actual False | 13051 | 2 |\n",
        "| Actual True  | 1   | 39 |"
      ]
    },
    {
      "metadata": {
        "id": "vU6Lx9SiCHNd",
        "colab_type": "code",
        "colab": {
          "base_uri": "https://localhost:8080/",
          "height": 206
        },
        "outputId": "ffaef73c-439e-4b6d-b364-f90e42d7567b"
      },
      "cell_type": "code",
      "source": [
        "# @title Now with the full dataset\n",
        "emails_full = pd.read_csv('https://storage.googleapis.com/bewica-challenge/emails_from_boss.csv', engine='python', error_bad_lines=False)\n",
        "emails_full = emails_full.drop(columns=['Unnamed: 0', 'file', 'message', 'user', 'type', 'email_from', 'email_to', 'xfrom', 'xto', 'date', 'subject']).fillna('')\n",
        "emails_full.head()"
      ],
      "execution_count": 13,
      "outputs": [
        {
          "output_type": "execute_result",
          "data": {
            "text/html": [
              "<div>\n",
              "<style scoped>\n",
              "    .dataframe tbody tr th:only-of-type {\n",
              "        vertical-align: middle;\n",
              "    }\n",
              "\n",
              "    .dataframe tbody tr th {\n",
              "        vertical-align: top;\n",
              "    }\n",
              "\n",
              "    .dataframe thead th {\n",
              "        text-align: right;\n",
              "    }\n",
              "</style>\n",
              "<table border=\"1\" class=\"dataframe\">\n",
              "  <thead>\n",
              "    <tr style=\"text-align: right;\">\n",
              "      <th></th>\n",
              "      <th>body</th>\n",
              "      <th>from_boss</th>\n",
              "    </tr>\n",
              "  </thead>\n",
              "  <tbody>\n",
              "    <tr>\n",
              "      <th>0</th>\n",
              "      <td>Here is our forecast</td>\n",
              "      <td>False</td>\n",
              "    </tr>\n",
              "    <tr>\n",
              "      <th>1</th>\n",
              "      <td>Traveling to have a business meeting takes the...</td>\n",
              "      <td>False</td>\n",
              "    </tr>\n",
              "    <tr>\n",
              "      <th>2</th>\n",
              "      <td>test successful.  way to go!!!</td>\n",
              "      <td>False</td>\n",
              "    </tr>\n",
              "    <tr>\n",
              "      <th>3</th>\n",
              "      <td>Randy, Can you send me a schedule of the salar...</td>\n",
              "      <td>False</td>\n",
              "    </tr>\n",
              "    <tr>\n",
              "      <th>4</th>\n",
              "      <td>Let's shoot for Tuesday at 11:45.</td>\n",
              "      <td>False</td>\n",
              "    </tr>\n",
              "  </tbody>\n",
              "</table>\n",
              "</div>"
            ],
            "text/plain": [
              "                                                body  from_boss\n",
              "0                              Here is our forecast       False\n",
              "1  Traveling to have a business meeting takes the...      False\n",
              "2                     test successful.  way to go!!!      False\n",
              "3  Randy, Can you send me a schedule of the salar...      False\n",
              "4                Let's shoot for Tuesday at 11:45.        False"
            ]
          },
          "metadata": {
            "tags": []
          },
          "execution_count": 13
        }
      ]
    },
    {
      "metadata": {
        "id": "7vpe3iuTCgw8",
        "colab_type": "code",
        "colab": {
          "base_uri": "https://localhost:8080/",
          "height": 208
        },
        "outputId": "06c2bb92-517d-4be2-e15b-29f7304e9eee"
      },
      "cell_type": "code",
      "source": [
        "train_full, test_full = train_test_split(emails_full, test_size=0.2, random_state=3)\n",
        "print('Train data:\\n', train_full.groupby('from_boss').count())\n",
        "print('\\nTest data:\\n', test_full.groupby('from_boss').count())"
      ],
      "execution_count": 14,
      "outputs": [
        {
          "output_type": "stream",
          "text": [
            "Train data:\n",
            "              body\n",
            "from_boss        \n",
            "False      673421\n",
            "True         1156\n",
            "\n",
            "Test data:\n",
            "              body\n",
            "from_boss        \n",
            "False      168350\n",
            "True          295\n"
          ],
          "name": "stdout"
        }
      ]
    },
    {
      "metadata": {
        "id": "6tZZQkZYCojj",
        "colab_type": "code",
        "colab": {
          "base_uri": "https://localhost:8080/",
          "height": 173
        },
        "outputId": "fdece40b-a83e-4f2e-9d07-55f632ac8e59"
      },
      "cell_type": "code",
      "source": [
        "pipeline_full = Pipeline([('vect', TfidfVectorizer(vocabulary=dictionary['word'])),\n",
        "                       ('clf', LinearSVC(C=1000)),])\n",
        "pipeline_full.fit(train_full['body'], train_full['from_boss'])\n",
        "\n",
        "predictions = pipeline_full.predict(test_full['body'])\n",
        "\n",
        "print(metrics.classification_report(test_full['from_boss'], predictions))\n",
        "\n",
        "cm = metrics.confusion_matrix(test_full['from_boss'], predictions)\n",
        "print(cm)"
      ],
      "execution_count": 15,
      "outputs": [
        {
          "output_type": "stream",
          "text": [
            "             precision    recall  f1-score   support\n",
            "\n",
            "      False       1.00      1.00      1.00    168350\n",
            "       True       0.79      0.99      0.88       295\n",
            "\n",
            "avg / total       1.00      1.00      1.00    168645\n",
            "\n",
            "[[168274     76]\n",
            " [     2    293]]\n"
          ],
          "name": "stdout"
        }
      ]
    },
    {
      "metadata": {
        "id": "leysVhzBD9WG",
        "colab_type": "text"
      },
      "cell_type": "markdown",
      "source": [
        "# Full dataset Commentary:\n",
        "Results are not as good on the full dataset with a pretty quick model, more tuning needed.\n",
        "## Model comments\n",
        "Same model as used in the small dataset\n",
        "\n",
        "## Train/test split comments\n",
        "__Split between train and test data is still pretty good__ with 'random_state=3', this dataset is even more imbalanced that the small one (around 580 times more non-boss emails).\n",
        "\n",
        "__Train sample split__\n",
        "\n",
        "| from_boss | occurrences |\n",
        "|-------|-------|\n",
        "| False | 673421 |\n",
        "| True  | 1156   |\n",
        "\n",
        "*ratio non_boss/boss emails = 582*\n",
        "\n",
        "__Test sample split__\n",
        "\n",
        "| from_boss | occurrences |\n",
        "|-------|-------|\n",
        "| False | 168350 |\n",
        "| True  | 295   |\n",
        "\n",
        "*ratio non_boss/boss emails = 570*\n",
        "\n",
        "## Train results comments\n",
        "Only 78 misclassifications (2 false negative and 76 false positives) over 13094 test samples.\n",
        "\n",
        "__Confusion matrix on test sample__\n",
        "\n",
        "| | Predicted False | Predicted True |\n",
        "|-------|-------|-------|\n",
        "| Actual False | 168272 | 76 |\n",
        "| Actual True  | 2   | 293 |\n",
        "\n",
        "## Final comment\n",
        "When we misclassify we get __quite a few false positives__ on both small and full dataset.\n",
        "Given the __nature of the problem__ (testing wether an email is actually from our boss) this __might be dangerous__, since you claim that an email is from your boss when it really isn't. this model would need some __more work to be usable__.\n",
        "We could also maybe use a classifier that yields probability instead of straight classification, and then set a safer/more conservative threshold for 'is this email from my boss'."
      ]
    }
  ]
}